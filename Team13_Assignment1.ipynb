{
  "cells": [
    {
      "cell_type": "markdown",
      "metadata": {
        "id": "Vj_r89FzT41w"
      },
      "source": [
        "# **BITS F464 - Semester 1 - MACHINE LEARNING**\n",
        "--------------------------------------------------------------------------------\n",
        "\n",
        "**ASSIGNMENT 1 - LINEAR MODELS FOR REGRESSION AND CLASSIFICATION**\n",
        "--------------------------------------------------------------------------------\n",
        "***Team number: 13***\n",
        "\n",
        "---\n",
        "***Team Members: ANIRUDH BAGALKOTKER, KARTIK PANDEY, ADWAIT KULKARNI, JOY SINHA, PIYUSH JAJRA***\n",
        "\n",
        "---\n",
        "***IDs: 2021A7PS2682H, 2021A7PS2574H, 2021A7PS2995H, 2021A8PS1606H, 2021B4A72969H***\n"
      ]
    },
    {
      "cell_type": "markdown",
      "metadata": {
        "id": "Z_duS0Zn17c3"
      },
      "source": [
        "This assignment aims to identify the differences between three sets of Machine Learning models."
      ]
    },
    {
      "cell_type": "markdown",
      "metadata": {
        "id": "yT-dTtra2h2n"
      },
      "source": [
        "# **_1. Dataset Generation_**"
      ]
    },
    {
      "cell_type": "markdown",
      "metadata": {
        "id": "2UsOVUj22wrz"
      },
      "source": [
        "You are given a sample Diabetes dataset. Using this, please develop your own dataset consisting of 500 records. You can use the given code to generate your own dataset. Submit the generated dataset as a .csv file along with your python notebook."
      ]
    },
    {
      "cell_type": "code",
      "execution_count": null,
      "metadata": {
        "id": "N8uONwSjNSc-"
      },
      "outputs": [],
      "source": [
        "import os\n",
        "from sdv.datasets.local import load_csvs\n",
        "from sdv.metadata import SingleTableMetadata\n",
        "from sdv.lite import SingleTablePreset\n",
        "\n",
        "# get the current directory using os.path\n",
        "folderName = os.path.abspath(os.path.dirname(__file__))\n",
        "\n",
        "# load the csv file with the sample diabetes dataset\n",
        "datasets = load_csvs(folder_name=folderName)\n",
        "real_data = datasets[\"diabetes\"]\n",
        "\n",
        "# generate metadata for the sample dataset\n",
        "metadata = SingleTableMetadata()\n",
        "metadata.detect_from_csv(filepath=folderName + \"/diabetes.csv\")\n",
        "\n",
        "# print(metadata.to_dict())\n",
        "\n",
        "# visualize the metadata\n",
        "real_data.head()\n",
        "metadata.visualize()\n",
        "\n",
        "# Initializing a SingleTablePreset object with the metadata and fitting the synthesizer and sampling with the real_data input.\n",
        "synthesizer = SingleTablePreset(metadata, name=\"FAST_ML\")\n",
        "synthesizer.fit(data=real_data)\n",
        "\n",
        "# Generating 500 rows of synthetic data using the synthesizer and saving it as a csv\n",
        "synthetic_data = synthesizer.sample(num_rows=500)\n",
        "synthetic_data.to_csv(\"synthetic_diabetes.csv\", index=False)\n",
        "synthesizer.save(\"diabetes.pkl\")\n",
        "print(\"\\nSynthetic data generated.\\n\")\n",
        "print(synthetic_data.head())"
      ]
    },
    {
      "cell_type": "markdown",
      "metadata": {
        "id": "rDu7bwbNRhaK"
      },
      "source": [
        "# ***2. Preprocess and perform exploratory data analysis of the dataset obtained***"
      ]
    },
    {
      "cell_type": "code",
      "execution_count": null,
      "metadata": {
        "id": "oAd4cNwERr90"
      },
      "outputs": [],
      "source": [
        "from sdv.evaluation.single_table import evaluate_quality\n",
        "import pandas as pd\n",
        "import matplotlib.pyplot as plt\n",
        "import seaborn as sns\n",
        "\n",
        "# Load the synthetic dataset\n",
        "synthetic_data = pd.read_csv(\"synthetic_diabetes.csv\")\n",
        "\n",
        "# Preprocessing of the Synthetic Data\n",
        "\n",
        "# Handle missing values (if any) by replacing them with the mean\n",
        "synthetic_data.fillna(synthetic_data.mean(), inplace=True)\n",
        "\n",
        "# Normalizing the data\n",
        "# for column in synthetic_data:\n",
        "#     synthetic_data[column] = (synthetic_data[column] - synthetic_data[column].min()) / (\n",
        "#         synthetic_data[column].max() - synthetic_data[column].min()\n",
        "#     )\n",
        "\n",
        "print(\"\\nSynthetic data Preprocessed.\\n\")\n",
        "\n",
        "# Exploratory Data Analysis of the Synthetic Data\n",
        "print(\"\\nEDA for Synthetic data.\\n\")\n",
        "\n",
        "# Display basic statistics\n",
        "print(synthetic_data.describe())\n",
        "print(\"\\n\")\n",
        "\n",
        "# Check data types and missing values\n",
        "print(synthetic_data.info())\n",
        "print(\"\\n\")\n",
        "\n",
        "# Calculate and visualize correlations between numeric columns\n",
        "correlation_matrix = synthetic_data.corr()\n",
        "plt.figure(figsize=(10, 6))\n",
        "sns.heatmap(correlation_matrix, annot=True, cmap=\"coolwarm\")\n",
        "plt.show()\n",
        "\n",
        "# Evaluating the quality of the synthetic data\n",
        "quality_report = evaluate_quality(real_data, synthetic_data, metadata)\n",
        "quality_report.get_visualization(\"Column Shapes\")"
      ]
    },
    {
      "cell_type": "markdown",
      "metadata": {
        "id": "y81SQxOrRso5"
      },
      "source": [
        "# ***3. Comparison of Stochastic Gradient Descent and Batch Gradient Descent using Linear Regression***\n",
        "\n",
        "## **_Stochastic Gradient Descent_**"
      ]
    },
    {
      "cell_type": "code",
      "execution_count": null,
      "metadata": {
        "id": "OQ8CVHsER-Mh"
      },
      "outputs": [],
      "source": []
    },
    {
      "cell_type": "markdown",
      "metadata": {
        "id": "HqIC34nWR-n7"
      },
      "source": [
        "## **_Batch Gradient Descent_**"
      ]
    },
    {
      "cell_type": "code",
      "execution_count": null,
      "metadata": {
        "id": "-hA5FysjSBzj"
      },
      "outputs": [],
      "source": []
    },
    {
      "cell_type": "markdown",
      "metadata": {
        "id": "8g7NxS5sSCRv"
      },
      "source": [
        "## **_Insights drawn (plots, markdown explanations)_**"
      ]
    },
    {
      "cell_type": "code",
      "execution_count": null,
      "metadata": {
        "id": "Pw63z3amSSo_"
      },
      "outputs": [],
      "source": [
        "#plot a graph using any python lib (matplotlib, plotly etc..)"
      ]
    },
    {
      "cell_type": "markdown",
      "metadata": {},
      "source": [
        "<!-- Explain your model Implementation using mathematical formulas and algorithms -->"
      ]
    },
    {
      "cell_type": "markdown",
      "metadata": {
        "id": "2p-mPVFCSe9V"
      },
      "source": [
        "# **_4. Comparison of Lasso and Ridge Regression using Polynomial Regression_**\n",
        "\n",
        "## **_Lasso Regression_**"
      ]
    },
    {
      "cell_type": "code",
      "execution_count": null,
      "metadata": {
        "id": "LTjoKWdNSpcE"
      },
      "outputs": [],
      "source": []
    },
    {
      "cell_type": "markdown",
      "metadata": {
        "id": "Dr-p_RtzSqUF"
      },
      "source": [
        "## **_Ridge Regression_**"
      ]
    },
    {
      "cell_type": "code",
      "execution_count": null,
      "metadata": {
        "id": "aWqMiCzVSuAD"
      },
      "outputs": [],
      "source": []
    },
    {
      "cell_type": "markdown",
      "metadata": {
        "id": "FlUMAWsiSug9"
      },
      "source": [
        "## **_Insights drawn (plots, markdown explanations)_**"
      ]
    },
    {
      "cell_type": "code",
      "execution_count": null,
      "metadata": {
        "id": "ZRRNyaimS0iR"
      },
      "outputs": [],
      "source": [
        "#plot a graph using any python lib (matplotlib, plotly etc..)"
      ]
    },
    {
      "cell_type": "markdown",
      "metadata": {},
      "source": [
        "<!-- Explain your model Implementation using mathematical formulas and algorithms -->"
      ]
    },
    {
      "cell_type": "markdown",
      "metadata": {
        "id": "jzSfpXtdS_q0"
      },
      "source": [
        "# **_5. Comparison of Logistic Regression and Least Squares Classification_**\n",
        "\n",
        "## **_Logistic Regression_**"
      ]
    },
    {
      "cell_type": "code",
      "execution_count": null,
      "metadata": {
        "id": "JLCup6QlTG0G"
      },
      "outputs": [],
      "source": []
    },
    {
      "cell_type": "markdown",
      "metadata": {
        "id": "kdX2kQ-nTHXc"
      },
      "source": [
        "## **_Least Squares Classification_**"
      ]
    },
    {
      "cell_type": "code",
      "execution_count": null,
      "metadata": {
        "id": "_7qJtwGnTMdb"
      },
      "outputs": [],
      "source": []
    },
    {
      "cell_type": "markdown",
      "metadata": {
        "id": "WSoa7KO1TM6-"
      },
      "source": [
        "## **_Insights drawn (plots, markdown explanations)_**"
      ]
    },
    {
      "cell_type": "code",
      "execution_count": null,
      "metadata": {
        "id": "9KYE7sstTW4D"
      },
      "outputs": [],
      "source": [
        "#plot a graph using any python lib (matplotlib, plotly etc..)"
      ]
    },
    {
      "cell_type": "markdown",
      "metadata": {},
      "source": [
        "<!-- Explain your model Implementation using mathematical formulas and algorithms -->"
      ]
    },
    {
      "cell_type": "markdown",
      "metadata": {
        "id": "81SwQ_y4TaSc"
      },
      "source": [
        "# **_5. References_**\n",
        "\n",
        "1.   SDV: https://docs.sdv.dev/sdv/\n",
        "2.   Seaborn: https://seaborn.pydata.org/\n",
        "3.   Preprocessing for Missing Data: https://pandas.pydata.org/docs/user_guide/missing_data.html\n",
        "\n",
        "\n"
      ]
    }
  ],
  "metadata": {
    "colab": {
      "provenance": []
    },
    "kernelspec": {
      "display_name": "Python 3",
      "name": "python3"
    },
    "language_info": {
      "name": "python",
      "version": "3.11.4"
    }
  },
  "nbformat": 4,
  "nbformat_minor": 0
}
