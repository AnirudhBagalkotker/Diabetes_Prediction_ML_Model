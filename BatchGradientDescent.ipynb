{
 "cells": [
  {
   "cell_type": "code",
   "execution_count": null,
   "metadata": {},
   "outputs": [],
   "source": [
    "import numpy as np\n",
    "\n",
    "def batch_gradient_descent(X, Y, w, b, learning_rate, batch_size):\n",
    "    m, n = X.shape\n",
    "    dw = np.zeros(n)\n",
    "    db = 0\n",
    "\n",
    "    for i in range(0, m, batch_size):\n",
    "        X_batch = X[i:i+batch_size]\n",
    "        Y_batch = Y[i:i+batch_size]\n",
    "\n",
    "        Y_hat_batch = 1 / (1 + np.exp(-(X_batch.dot(w) + b)))\n",
    "\n",
    "        dw_batch = (1/batch_size) * X_batch.T.dot(Y_hat_batch - Y_batch)\n",
    "        db_batch = (1/batch_size) * np.sum(Y_hat_batch - Y_batch)\n",
    "\n",
    "        dw += dw_batch\n",
    "        db += db_batch\n",
    "\n",
    "    w = w - learning_rate * dw\n",
    "    b = b - learning_rate * db\n",
    "\n",
    "    return w, b"
   ]
  }
 ],
 "metadata": {
  "language_info": {
   "name": "python"
  },
  "orig_nbformat": 4
 },
 "nbformat": 4,
 "nbformat_minor": 2
}
