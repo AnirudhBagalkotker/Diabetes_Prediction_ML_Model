{
 "cells": [
  {
   "cell_type": "code",
   "execution_count": 9,
   "metadata": {},
   "outputs": [],
   "source": [
    "import numpy as np\n",
    "import pandas as pd\n",
    "import matplotlib.pyplot as plt"
   ]
  },
  {
   "cell_type": "code",
   "execution_count": 18,
   "metadata": {},
   "outputs": [],
   "source": [
    "class LMSClassifier:\n",
    "    def __init__ (self, learning_rate, no_itr):\n",
    "        self.learning_rate = learning_rate\n",
    "        self.no_itr = no_itr\n",
    "\n",
    "    def model(self, X_train, Y_train):\n",
    "        no_samples, no_features = X_train.shape\n",
    "        X = np.array(np.ones(no_samples))\n",
    "        for j in range(no_features):\n",
    "            x_i = (X_train[:,j]).T\n",
    "            X = np.concatenate((X, x_i), axis = 0)\n",
    "\n",
    "        Y = Y_train.T\n",
    "\n",
    "        self.beta = np.linalg.inv(X.T @ X) @ (X.T @ Y)\n",
    "\n",
    "    def rss_val(self, X_train, Y_train):\n",
    "        self.rss = np.sum((Y_train - X_train @ self.beta) ** 2)\n",
    "        print(\"The minimum RSS value is: \" + self.rss)\n",
    "\n",
    "    def predict(self, X_test):\n",
    "        no_samples, no_features = X_test.shape\n",
    "        X = np.concatenate((np.ones(no_samples), X_test), axis = 0)\n",
    "        Y = X.T * self.beta\n",
    "        return Y\n",
    "    \n"
   ]
  }
 ],
 "metadata": {
  "kernelspec": {
   "display_name": "Python 3",
   "language": "python",
   "name": "python3"
  },
  "language_info": {
   "codemirror_mode": {
    "name": "ipython",
    "version": 3
   },
   "file_extension": ".py",
   "mimetype": "text/x-python",
   "name": "python",
   "nbconvert_exporter": "python",
   "pygments_lexer": "ipython3",
   "version": "3.11.5"
  },
  "orig_nbformat": 4
 },
 "nbformat": 4,
 "nbformat_minor": 2
}
