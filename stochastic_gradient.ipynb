{
 "cells": [
  {
   "cell_type": "code",
   "execution_count": 10,
   "id": "1cd35a44-a0d5-4a34-a2ce-3b97781a1c7f",
   "metadata": {},
   "outputs": [
    {
     "name": "stdout",
     "output_type": "stream",
     "text": [
      "[ 0.39448635  0.08070697  0.15736182  0.01085519  0.00892143 -0.03630084\n",
      "  0.08615843  0.05026227  0.01024114]\n",
      "Accuracy(F-1 Score)= 0.5352112676056338\n"
     ]
    }
   ],
   "source": [
    "import numpy as np\n",
    "import pandas as pd\n",
    "import random\n",
    "from sklearn.metrics import f1_score\n",
    "\n",
    "data=pd.read_csv('synthetic_diabetes.csv')\n",
    "\n",
    "X=data.iloc[:,:-1].values\n",
    "y=data.iloc[:,-1].values\n",
    "\n",
    "def scale_features(X):\n",
    "    X_scaled = (X - np.mean(X, axis=0)) / np.std(X, axis=0)\n",
    "    return X_scaled\n",
    "\n",
    "# Scale features\n",
    "X_scaled = scale_features(X)\n",
    "X = np.column_stack((np.ones(len(X_scaled)), X_scaled))\n",
    "\n",
    "def train_test_split(X, y, test_ratio=0.2):\n",
    "    num_samples = len(X)\n",
    "    num_test_samples = int(test_ratio * num_samples)\n",
    "    test_indices = random.sample(range(num_samples), num_test_samples)\n",
    "    train_indices = [i for i in range(num_samples) if i not in test_indices]\n",
    "    return X[train_indices], X[test_indices], y[train_indices], y[test_indices]\n",
    "\n",
    "X_train, X_test, y_train, y_test= train_test_split(X,y, test_ratio=0.2)\n",
    "\n",
    "def predict(X, weights):\n",
    "    y_pred=X.dot(weights)\n",
    "    return y_pred\n",
    "\n",
    "def gradient(X,y,weights):\n",
    "    y_pred=predict(X,weights)\n",
    "    grad=2*X.T.dot(y_pred-y)\n",
    "    return grad\n",
    "\n",
    "def stochastic_gradient_descent(X,y,learning_rate=0.01, num_epochs=1000):\n",
    "    num_samples, num_features=X.shape\n",
    "    weights=np.random.rand(num_features)\n",
    "\n",
    "    for epoch in range(num_epochs):\n",
    "        np.random.seed(42)  # for reproducibility\n",
    "        shuffled_indices = np.random.permutation(len(X))\n",
    "        X_shuffled = X[shuffled_indices]\n",
    "        y_shuffled = y[shuffled_indices]\n",
    "        for i in range(0,num_samples):\n",
    "            grad=gradient(X_shuffled,y_shuffled, weights)\n",
    "            weights-= learning_rate*grad/num_samples\n",
    "    return weights\n",
    "\n",
    "learning_rate=0.001\n",
    "num_epochs=1000\n",
    "\n",
    "weights=stochastic_gradient_descent(X_train,y_train,learning_rate, num_epochs)\n",
    "print(weights)\n",
    "\n",
    "y_pred=predict(X_test,weights)\n",
    "y_pred = np.round(y_pred).astype(int)\n",
    "\n",
    "def calculate_metrics(y_true, y_pred):\n",
    "    # Calculate true positives, false positives, false negatives\n",
    "    tp = sum(1 for i in range(len(y_true)) if y_true[i] == 1 and y_pred[i] == 1)\n",
    "    fp = sum(1 for i in range(len(y_true)) if y_true[i] == 0 and y_pred[i] == 1)\n",
    "    fn = sum(1 for i in range(len(y_true)) if y_true[i] == 1 and y_pred[i] == 0)\n",
    "\n",
    "    # Calculate precision, recall, and F1 score\n",
    "    precision = tp / (tp + fp) if (tp + fp) != 0 else 0\n",
    "    recall = tp / (tp + fn) if (tp + fn) != 0 else 0\n",
    "    f1 = 2 * (precision * recall) / (precision + recall) if (precision + recall) != 0 else 0\n",
    "\n",
    "    return f1\n",
    "\n",
    "accuracy=calculate_metrics(y_test,y_pred)\n",
    "print(\"Accuracy(F-1 Score)=\", accuracy)"
   ]
  },
  {
   "cell_type": "code",
   "execution_count": null,
   "id": "681123cc-9495-4dc1-8c27-a7de0046a465",
   "metadata": {},
   "outputs": [],
   "source": []
  }
 ],
 "metadata": {
  "kernelspec": {
   "display_name": "Python 3 (ipykernel)",
   "language": "python",
   "name": "python3"
  },
  "language_info": {
   "codemirror_mode": {
    "name": "ipython",
    "version": 3
   },
   "file_extension": ".py",
   "mimetype": "text/x-python",
   "name": "python",
   "nbconvert_exporter": "python",
   "pygments_lexer": "ipython3",
   "version": "3.10.12"
  }
 },
 "nbformat": 4,
 "nbformat_minor": 5
}
